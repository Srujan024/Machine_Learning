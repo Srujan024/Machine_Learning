{
 "cells": [
  {
   "cell_type": "raw",
   "id": "b05cde61",
   "metadata": {},
   "source": [
    "AUC score/ ROC score is a measure of the performance of a binary classification model(Logistic Regression Model).\n",
    "\n",
    "It considers the trade-off between the true positive rate (TPR) and the false positive rate (FPR) at various threshold values.\n",
    "\n",
    "ROC curve is a plot of the false positive rate (x-axis) versus the true positive rate (y-axis).\n",
    "\n",
    "AUC of 0.5 indicating random guessing and an AUC of 1.0 indicating perfect discrimination."
   ]
  },
  {
   "cell_type": "raw",
   "id": "74d4f324",
   "metadata": {},
   "source": [
    "ROC (Receiver Operating Characteristic)\n",
    "AUC (Area Under Curve)\n",
    "\n",
    "[0, 1, 1, 0, 1] - Class Labels\n",
    "[0.2, 0.8, 0.6, 0.3, 0.9] - Predicted Probabilities"
   ]
  },
  {
   "cell_type": "code",
   "execution_count": 11,
   "id": "b2582643",
   "metadata": {},
   "outputs": [
    {
     "name": "stdout",
     "output_type": "stream",
     "text": [
      "AUC: 1.000\n",
      "AUC: 1.000\n"
     ]
    }
   ],
   "source": [
    "import numpy as np\n",
    "from sklearn.metrics import roc_curve, auc\n",
    "\n",
    "def calculate_auc(y_true, y_pred):\n",
    "    fpr, tpr, _ = roc_curve(y_true, y_pred)       #function returns the FPR, TPR, and thresholds\n",
    "    auc_score = auc(fpr, tpr)\n",
    "    return auc_score\n",
    "\n",
    "# Given true class labels and predicted probabilities\n",
    "y_true = np.array([0, 1, 1, 0, 1])\n",
    "y_pred = np.array([0.2, 0.8, 0.6, 0.3, 0.9])\n",
    "\n",
    "# Calculate AUC\n",
    "auc_score = calculate_auc(y_true, y_pred)\n",
    "\n",
    "print(f\"AUC: {auc_score:.3f}\")\n",
    "print('AUC: %.3f' % auc_score)"
   ]
  },
  {
   "cell_type": "code",
   "execution_count": null,
   "id": "17ab6d75",
   "metadata": {},
   "outputs": [],
   "source": [
    "import numpy as np\n",
    "from sklearn.metrics import roc_curve,auc\n",
    "\n",
    "y_true = np.array([0, 1, 1, 0, 1])\n",
    "y_pred = np.array([0.2, 0.8, 0.6, 0.3, 0.9])\n",
    "\n",
    "fpr,tpr,_ = roc_curve(y_true,y_pred)\n",
    "score = auc(fpr,tpr)\n",
    "print(score)"
   ]
  },
  {
   "cell_type": "code",
   "execution_count": null,
   "id": "47c34423",
   "metadata": {},
   "outputs": [],
   "source": []
  }
 ],
 "metadata": {
  "kernelspec": {
   "display_name": "Python 3 (ipykernel)",
   "language": "python",
   "name": "python3"
  },
  "language_info": {
   "codemirror_mode": {
    "name": "ipython",
    "version": 3
   },
   "file_extension": ".py",
   "mimetype": "text/x-python",
   "name": "python",
   "nbconvert_exporter": "python",
   "pygments_lexer": "ipython3",
   "version": "3.9.13"
  }
 },
 "nbformat": 4,
 "nbformat_minor": 5
}
