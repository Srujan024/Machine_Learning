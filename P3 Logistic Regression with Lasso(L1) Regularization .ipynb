{
 "cells": [
  {
   "cell_type": "raw",
   "id": "3ad8faa3",
   "metadata": {},
   "source": [
    "Logistic Regression is applied for predicting discrete values only\n",
    "\n",
    "The L1 penalty adds the sum of the absolute values of the coefficients to the loss function.\n",
    "The L2 penalty adds the sum of the squared values of the coefficients to the loss function.\n",
    "\n",
    "{ C = 1/regularization_param } value balances the model complexity.\n",
    "\n",
    "The 'solver' parameter specifies the algorithm to be used for optimization when fitting the logistic regression model.\n",
    "The 'liblinear' solver is a good choice for small to medium-sized datasets."
   ]
  },
  {
   "cell_type": "raw",
   "id": "231804c3",
   "metadata": {},
   "source": [
    "#--Input--#\n",
    "\n",
    "X = [[1, 2], [2, 3], [3, 4], [4, 5]]\n",
    "y = [0, 0, 1, 1]\n",
    "regularization_param = 0.1\n",
    "tolerance = 0.001"
   ]
  },
  {
   "cell_type": "code",
   "execution_count": 1,
   "id": "6b06a4cb",
   "metadata": {},
   "outputs": [
    {
     "data": {
      "text/plain": [
       "array([[2.23260945, 0.        ]])"
      ]
     },
     "execution_count": 1,
     "metadata": {},
     "output_type": "execute_result"
    }
   ],
   "source": [
    "X = [[1, 2], [2, 3], [3, 4], [4, 5]]\n",
    "y = [0, 0, 1, 1]\n",
    "regularization_param = 0.1\n",
    "tolerance = 0.001\n",
    "\n",
    "from sklearn.linear_model import LogisticRegression\n",
    "\n",
    "def logistic_regression_with_l1_regularization(X, y, regularization_param, tolerance):\n",
    "    # Create the Logistic Regression model with L1 regularization\n",
    "    model = LogisticRegression(penalty='l1',C=1/regularization_param,tol=tolerance,solver='liblinear',random_state=0)\n",
    "    # Train the model\n",
    "    model.fit(X, y)\n",
    "    return model\n",
    "\n",
    "model = logistic_regression_with_l1_regularization(X,y,regularization_param,tolerance)\n",
    "model.coef_"
   ]
  },
  {
   "cell_type": "code",
   "execution_count": 2,
   "id": "6a8a6976",
   "metadata": {},
   "outputs": [
    {
     "data": {
      "text/plain": [
       "array([[2.23260945, 0.        ]])"
      ]
     },
     "execution_count": 2,
     "metadata": {},
     "output_type": "execute_result"
    }
   ],
   "source": [
    "X = [[1, 2], [2, 3], [3, 4], [4, 5]]\n",
    "y = [0, 0, 1, 1]\n",
    "regularization_param = 0.1\n",
    "tolerance = 0.001\n",
    "\n",
    "from sklearn.linear_model import LogisticRegression\n",
    "\n",
    "model = LogisticRegression(penalty='l1',C = 1/regularization_param,tol = tolerance,solver = 'liblinear',random_state=0)\n",
    "\n",
    "model.fit(X,y)\n",
    "\n",
    "model.coef_"
   ]
  },
  {
   "cell_type": "code",
   "execution_count": null,
   "id": "859c0f50",
   "metadata": {},
   "outputs": [],
   "source": []
  }
 ],
 "metadata": {
  "kernelspec": {
   "display_name": "Python 3 (ipykernel)",
   "language": "python",
   "name": "python3"
  },
  "language_info": {
   "codemirror_mode": {
    "name": "ipython",
    "version": 3
   },
   "file_extension": ".py",
   "mimetype": "text/x-python",
   "name": "python",
   "nbconvert_exporter": "python",
   "pygments_lexer": "ipython3",
   "version": "3.9.13"
  }
 },
 "nbformat": 4,
 "nbformat_minor": 5
}
