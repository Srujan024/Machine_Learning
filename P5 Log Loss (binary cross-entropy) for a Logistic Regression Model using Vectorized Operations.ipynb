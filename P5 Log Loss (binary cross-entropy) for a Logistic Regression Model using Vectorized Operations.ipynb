{
 "cells": [
  {
   "cell_type": "raw",
   "id": "2183ebc7",
   "metadata": {},
   "source": [
    "The binary cross-entropy (log loss) measures the dissimilarity between the true labels and predicted probabilities.\n",
    "\n",
    "Lower values indicate better model performance, with 0 being the ideal value. \n",
    "\n",
    "To avoid issues with taking the logarithm of 0 or 1, the predicted probabilities are clipped to ensure they lie within the range [epsilon, 1 - epsilon] - 1x10^-15 to 0.999999"
   ]
  },
  {
   "cell_type": "raw",
   "id": "5c576f90",
   "metadata": {},
   "source": [
    "#--Input--#\n",
    "\n",
    "y_true = [0, 1, 1, 0]\n",
    "y_pred = [0.2, 0.8, 0.9, 0.3]"
   ]
  },
  {
   "cell_type": "code",
   "execution_count": 21,
   "id": "f0dfbcbc",
   "metadata": {},
   "outputs": [
    {
     "name": "stdout",
     "output_type": "stream",
     "text": [
      "Log Loss (Binary Cross-Entropy): 0.22708064055624455\n"
     ]
    }
   ],
   "source": [
    "import numpy as np\n",
    "from sklearn.metrics import log_loss\n",
    "\n",
    "y_true = np.array([0, 1, 1, 0])\n",
    "y_pred = np.array([0.2, 0.8, 0.9, 0.3])\n",
    "\n",
    "# Ensure y_pred is within [epsilon, 1-epsilon] to avoid log(0) and log(1) issues\n",
    "epsilon = 1e-15\n",
    "y_pred = np.clip(y_pred, epsilon, 1-epsilon)\n",
    "\n",
    "# Calculate the log loss (binary cross-entropy)\n",
    "logloss = log_loss(y_true, y_pred)\n",
    "\n",
    "print(\"Log Loss (Binary Cross-Entropy):\", logloss)"
   ]
  },
  {
   "cell_type": "code",
   "execution_count": null,
   "id": "588c7bee",
   "metadata": {},
   "outputs": [],
   "source": [
    "import numpy as np\n",
    "from sklearn.metrics import log_loss\n",
    "\n",
    "y_true = np.array([0, 1, 1, 0])\n",
    "y_pred = np.array([0.2, 0.8, 0.9, 0.3])\n",
    "\n",
    "y_pred = np.clip(y_pred,epslon)"
   ]
  }
 ],
 "metadata": {
  "kernelspec": {
   "display_name": "Python 3 (ipykernel)",
   "language": "python",
   "name": "python3"
  },
  "language_info": {
   "codemirror_mode": {
    "name": "ipython",
    "version": 3
   },
   "file_extension": ".py",
   "mimetype": "text/x-python",
   "name": "python",
   "nbconvert_exporter": "python",
   "pygments_lexer": "ipython3",
   "version": "3.9.13"
  }
 },
 "nbformat": 4,
 "nbformat_minor": 5
}
