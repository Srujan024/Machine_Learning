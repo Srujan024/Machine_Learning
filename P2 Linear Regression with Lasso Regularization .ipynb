{
 "cells": [
  {
   "cell_type": "raw",
   "id": "3a858c62",
   "metadata": {},
   "source": [
    "Linear Regression is applied for Continuous values.\n",
    "\n",
    "LASSO regression(L1 regularization): statistical modeling technique to estimate the relationships between variables \n",
    "and make predictions. \n",
    "\n",
    "LASSO stands for Least Absolute Shrinkage and Selection Operator.\n",
    "\n",
    "Is used to overcome Overfitting of the model by shrinking large coefficients and selecting features with less importance."
   ]
  },
  {
   "cell_type": "raw",
   "id": "78dd9438",
   "metadata": {},
   "source": [
    "#--Input--#\n",
    "\n",
    "X = [[1, 1], [1, 2], [1, 3], [1, 4]]\n",
    "y = [3, 4, 5, 6]\n",
    "regularization_param = 0.1\n",
    "tolerance = 0.001"
   ]
  },
  {
   "cell_type": "code",
   "execution_count": null,
   "id": "a7b9555e",
   "metadata": {},
   "outputs": [],
   "source": [
    "\"\"\"\n",
    "Train a linear regression model with Lasso (L1) regularization using coordinate descent.\n",
    "\n",
    "Parameters:\n",
    "    X (array-like): Input features with shape (n_samples, n_features).\n",
    "    y (array-like): Target values with shape (n_samples,).\n",
    "    alpha (float, optional): The regularization strength (lambda). Default is 1.0.\n",
    "    tol (float, optional): The tolerance for convergence(specifies the stopping criterion for the optimization algorithm)\n",
    "                           Default is 1e-4 (1 × 10^-4).\n",
    "    \n",
    "Returns:\n",
    "    sklearn.linear_model.Lasso: The trained Lasso model.\n",
    "\"\"\""
   ]
  },
  {
   "cell_type": "code",
   "execution_count": 17,
   "id": "546bbc3b",
   "metadata": {},
   "outputs": [
    {
     "data": {
      "text/plain": [
       "array([0.  , 0.92])"
      ]
     },
     "execution_count": 17,
     "metadata": {},
     "output_type": "execute_result"
    }
   ],
   "source": [
    "X = [[1, 1], [1, 2], [1, 3], [1, 4]]\n",
    "y = [3, 4, 5, 6]\n",
    "regularization_param = 0.1\n",
    "tolerance = 0.001\n",
    "\n",
    "from sklearn.linear_model import Lasso\n",
    "\n",
    "def train_linear_regression_with_lasso(X, y, alpha, tol):\n",
    "\n",
    "    # Initialize the Lasso model with the given parameters\n",
    "    model = Lasso(alpha=alpha,tol=tol,random_state=0)\n",
    "    \n",
    "    # Train the model\n",
    "    model.fit(X, y)\n",
    "    \n",
    "    return model\n",
    "\n",
    "model = train_linear_regression_with_lasso(X,y,regularization_param,tolerance)\n",
    "model.coef_         #learned coefficients of the Lasso model"
   ]
  },
  {
   "cell_type": "raw",
   "id": "6b4307b2",
   "metadata": {},
   "source": [
    "In the context of Lasso regularization, a coefficient of zero indicates that the corresponding feature has been effectively \"ignored\" by the model due to the regularization process. In this case, it suggests that the first feature doesn't contribute significantly to predicting the target variable, and the second feature has a non-zero coefficient of approximately 0.92, indicating that it has a positive influence on the predicted values.`"
   ]
  },
  {
   "cell_type": "code",
   "execution_count": 1,
   "id": "fa389976",
   "metadata": {},
   "outputs": [
    {
     "data": {
      "text/plain": [
       "array([-0.  ,  1.16])"
      ]
     },
     "execution_count": 1,
     "metadata": {},
     "output_type": "execute_result"
    }
   ],
   "source": [
    "X = [[1,2],[1,3],[1,5],[2,6]]\n",
    "y = [3,5,7,8]\n",
    "regularization_para = 0.1\n",
    "tol = 0.01\n",
    "\n",
    "from sklearn.linear_model import Lasso\n",
    "model = Lasso(alpha = regularization_para,tol = tol,random_state = 0)\n",
    "model.fit(X,y)\n",
    "model.coef_"
   ]
  },
  {
   "cell_type": "code",
   "execution_count": null,
   "id": "dc525cca",
   "metadata": {},
   "outputs": [],
   "source": []
  }
 ],
 "metadata": {
  "kernelspec": {
   "display_name": "Python 3 (ipykernel)",
   "language": "python",
   "name": "python3"
  },
  "language_info": {
   "codemirror_mode": {
    "name": "ipython",
    "version": 3
   },
   "file_extension": ".py",
   "mimetype": "text/x-python",
   "name": "python",
   "nbconvert_exporter": "python",
   "pygments_lexer": "ipython3",
   "version": "3.9.13"
  }
 },
 "nbformat": 4,
 "nbformat_minor": 5
}
